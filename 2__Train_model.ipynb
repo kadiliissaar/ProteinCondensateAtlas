{
 "cells": [
  {
   "cell_type": "code",
   "execution_count": 1,
   "metadata": {},
   "outputs": [],
   "source": [
    "import numpy as np\n",
    "import pandas as pd\n",
    "import seaborn as sns\n",
    "import matplotlib.pylab as plt\n",
    "import math\n",
    "\n",
    "from sklearn.linear_model import LogisticRegression\n",
    "from sklearn.ensemble import RandomForestClassifier, RandomForestRegressor\n",
    "from sklearn.model_selection import train_test_split, GridSearchCV\n",
    "import sklearn.metrics as metrics\n",
    "\n",
    "from sklearn.metrics import make_scorer, precision_score, accuracy_score, recall_score, roc_auc_score, auc, average_precision_score, precision_recall_curve\n",
    "\n",
    "\n",
    "SEED = 42\n",
    "np.random.seed(SEED)\n",
    "pd.set_option(\"display.max_colwidth\", False)\n",
    "pd.set_option('display.expand_frame_repr', False)"
   ]
  },
  {
   "cell_type": "code",
   "execution_count": null,
   "metadata": {},
   "outputs": [],
   "source": []
  },
  {
   "cell_type": "code",
   "execution_count": null,
   "metadata": {},
   "outputs": [],
   "source": []
  },
  {
   "cell_type": "code",
   "execution_count": null,
   "metadata": {},
   "outputs": [],
   "source": []
  },
  {
   "cell_type": "markdown",
   "metadata": {},
   "source": [
    "# Build models based on different feature sets and evaluate performance"
   ]
  },
  {
   "cell_type": "code",
   "execution_count": 2,
   "metadata": {},
   "outputs": [],
   "source": [
    "df_all = pd.read_csv('Output/data_all.csv')\n",
    "df_HE = pd.read_csv('Output/data_HE.csv')\n",
    "features = pd.read_csv('Data/Features/swissprot_features_and_predictions.csv')\n",
    "features = features.rename(columns = {'SC_score' : 'DeePhase_score'})\n",
    "df_all_final = df_all.merge(features, left_on = 'Entry', right_on = 'Entry')\n",
    "df_HE_final = df_HE.merge(features, left_on = 'Entry', right_on = 'Entry')\n",
    "df_HE_final['condensate'] = np.where(df_HE_final['condensate'] == 'COND+', True, False)\n",
    "df_HE_final['condensate'] = df_HE_final['condensate'].map({True: 1, False: 0})"
   ]
  },
  {
   "cell_type": "code",
   "execution_count": 3,
   "metadata": {},
   "outputs": [],
   "source": [
    "cv = 10\n",
    "test_frac = 0.2"
   ]
  },
  {
   "cell_type": "code",
   "execution_count": 4,
   "metadata": {},
   "outputs": [],
   "source": [
    "df_model, test_df = train_test_split(df_HE_final, test_size=test_frac,\n",
    "                                     stratify = df_HE_final['condensate'], random_state=42)"
   ]
  },
  {
   "cell_type": "markdown",
   "metadata": {},
   "source": [
    "# First, let's evaluate predictive power based on just the homotypic phase separation propensity: \n"
   ]
  },
  {
   "cell_type": "code",
   "execution_count": 5,
   "metadata": {},
   "outputs": [
    {
     "name": "stdout",
     "output_type": "stream",
     "text": [
      "auROC on train/val data: 0.6431097802573594\n",
      "auPRC on train/val data: 0.3498767043659704\n",
      "auROC on test data: 0.6477432383122854+/-0.011240063679060336\n",
      "auPRC on test data: 0.3707674557022761+/-0.014184710630096317\n"
     ]
    }
   ],
   "source": [
    "#Train/val data\n",
    "true_label = df_model['condensate']\n",
    "prediction = df_model['DeePhase_score']\n",
    "fpr, tpr, thresholds = metrics.roc_curve(true_label, prediction)\n",
    "roc_auc_train = metrics.auc(fpr, tpr)\n",
    "precision, recall, thresholds = precision_recall_curve(true_label, prediction)\n",
    "auc_precision_recall_train = auc(recall, precision)\n",
    "print(str('auROC on train/val data: ' + str(np.mean(roc_auc_train))))\n",
    "print(str('auPRC on train/val data: ' + str(np.mean(auc_precision_recall_train))))\n",
    "\n",
    "#Performance on test data\n",
    "aurocs = []; auprcs = []\n",
    "for k in range(0, cv):\n",
    "    test_df_here = test_df.sample(frac=0.9, random_state=k)\n",
    "    true_label = test_df_here['condensate']\n",
    "    prediction = test_df_here['DeePhase_score']\n",
    "    fpr, tpr, thresholds = metrics.roc_curve(true_label, prediction)\n",
    "    roc_auc_test = metrics.auc(fpr, tpr)\n",
    "    aurocs.append(roc_auc_test)\n",
    "    precision, recall, thresholds = precision_recall_curve(true_label, prediction)\n",
    "    auc_precision_recall_test = auc(recall, precision)\n",
    "    auprcs.append(auc_precision_recall_test)\n",
    "print(str('auROC on test data: ' + str(np.mean(aurocs)) + '+/-' + str(np.std(aurocs))))\n",
    "print(str('auPRC on test data: ' + str(np.mean(auprcs)) + '+/-' + str(np.std(auprcs))))"
   ]
  },
  {
   "cell_type": "code",
   "execution_count": 6,
   "metadata": {},
   "outputs": [],
   "source": [
    "#No difference between train/val and test performance as no training was performed in this baseline scenario"
   ]
  },
  {
   "cell_type": "code",
   "execution_count": null,
   "metadata": {},
   "outputs": [],
   "source": []
  },
  {
   "cell_type": "markdown",
   "metadata": {},
   "source": [
    "# Next, train the model with hand-crafted features (EngF)"
   ]
  },
  {
   "cell_type": "code",
   "execution_count": 7,
   "metadata": {},
   "outputs": [
    {
     "name": "stdout",
     "output_type": "stream",
     "text": [
      "Fitting 10 folds for each of 27 candidates, totalling 270 fits\n",
      "Best hyperparameters: {'max_depth': 7, 'min_samples_leaf': 1, 'n_estimators': 200}\n",
      "auROC on train/val data: 0.9233976554197469\n",
      "auPRC on train/val data: 0.8538035111741507\n",
      "auROC on test data: 0.833476703982765+/-0.005783226711124994\n",
      "auPRC on test data: 0.6526613744863052+/-0.014289644204091689\n"
     ]
    }
   ],
   "source": [
    "columns_phys = list(df_model.columns[30:98]) + ['condensate']\n",
    "df_model_red = df_model[columns_phys]\n",
    "df_test_red = test_df[columns_phys]\n",
    "\n",
    "param_grid = {\n",
    "    'n_estimators': [50, 100, 200],\n",
    "    #'max_features': ['auto', 'sqrt'],\n",
    "    'max_depth': [3, 5, 7],\n",
    "    'min_samples_leaf': [1, 2, 4],\n",
    "}\n",
    "\n",
    "X = df_model_red.drop('condensate', axis=1)\n",
    "y = df_model_red['condensate']\n",
    "X_train, X_val, y_train, y_val = train_test_split(X, y, test_size=0.2, stratify=y, random_state=42)\n",
    "rf = RandomForestClassifier()\n",
    "scorer = make_scorer(roc_auc_score)\n",
    "grid_search = GridSearchCV(estimator = rf, param_grid = param_grid, \n",
    "                           scoring = scorer, cv = cv, n_jobs = -1, verbose = 1)\n",
    "grid_search.fit(X_train, y_train)\n",
    "print(\"Best hyperparameters:\", grid_search.best_params_)\n",
    "\n",
    "best_rf = grid_search.best_estimator_\n",
    "#Performance on all of train & validation data with these hyperparameters:\n",
    "X_train_val = df_model_red.drop('condensate', axis=1);\n",
    "y_train_val = df_model_red['condensate']\n",
    "y_pred_train_val = best_rf.predict_proba(X_train_val)[:, 1]\n",
    "auroc_train_val = roc_auc_score(y_train_val, y_pred_train_val)\n",
    "print(str('auROC on train/val data: ' + str(auroc_train_val)))\n",
    "precision, recall, thresholds = precision_recall_curve(y_train_val, y_pred_train_val)\n",
    "auprc_train_val = auc(recall, precision)\n",
    "print(str('auPRC on train/val data: ' + str(auprc_train_val)))\n",
    "\n",
    "#Performance on test data\n",
    "aurocs = []; auprcs = []\n",
    "for k in range(0, cv):\n",
    "    test_df_here = df_test_red.sample(frac=0.9, random_state=k)\n",
    "    X_test = test_df_here.drop('condensate', axis=1)\n",
    "    y_test = test_df_here['condensate']\n",
    "    \n",
    "    y_pred_proba = best_rf.predict_proba(X_test)[:, 1]\n",
    "    test_auroc = roc_auc_score(y_test, y_pred_proba)\n",
    "    aurocs.append(test_auroc)\n",
    "\n",
    "    precision, recall, thresholds = precision_recall_curve(y_test, y_pred_proba)\n",
    "    auc_precision_recall_test = auc(recall, precision)\n",
    "    auprcs.append(auc_precision_recall_test)\n",
    "print(str('auROC on test data: ' + str(np.mean(aurocs)) + '+/-' + str(np.std(aurocs))))\n",
    "print(str('auPRC on test data: ' + str(np.mean(auprcs)) + '+/-' + str(np.std(auprcs))))"
   ]
  },
  {
   "cell_type": "code",
   "execution_count": 8,
   "metadata": {},
   "outputs": [
    {
     "name": "stderr",
     "output_type": "stream",
     "text": [
      "/var/folders/g8/bkvqzlv57q917j6d_31ky2sc0000gn/T/ipykernel_44667/1614915720.py:8: UserWarning: \n",
      "\n",
      "`distplot` is a deprecated function and will be removed in seaborn v0.14.0.\n",
      "\n",
      "Please adapt your code to use either `displot` (a figure-level function with\n",
      "similar flexibility) or `histplot` (an axes-level function for histograms).\n",
      "\n",
      "For a guide to updating your code to use the new functions, please see\n",
      "https://gist.github.com/mwaskom/de44147ed2974457ad6372750bbe5751\n",
      "\n",
      "  sns.distplot(features['prediction_phys'][features['Entry'].isin(pos_set)], label = 'positive set')\n",
      "/opt/miniconda3/envs/etna/lib/python3.9/site-packages/seaborn/_oldcore.py:1119: FutureWarning: use_inf_as_na option is deprecated and will be removed in a future version. Convert inf values to NaN before operating instead.\n",
      "  with pd.option_context('mode.use_inf_as_na', True):\n",
      "/var/folders/g8/bkvqzlv57q917j6d_31ky2sc0000gn/T/ipykernel_44667/1614915720.py:9: UserWarning: \n",
      "\n",
      "`distplot` is a deprecated function and will be removed in seaborn v0.14.0.\n",
      "\n",
      "Please adapt your code to use either `displot` (a figure-level function with\n",
      "similar flexibility) or `histplot` (an axes-level function for histograms).\n",
      "\n",
      "For a guide to updating your code to use the new functions, please see\n",
      "https://gist.github.com/mwaskom/de44147ed2974457ad6372750bbe5751\n",
      "\n",
      "  sns.distplot(features['prediction_phys'][features['Entry'].isin(neg_set)], label = 'negative set')\n",
      "/opt/miniconda3/envs/etna/lib/python3.9/site-packages/seaborn/_oldcore.py:1119: FutureWarning: use_inf_as_na option is deprecated and will be removed in a future version. Convert inf values to NaN before operating instead.\n",
      "  with pd.option_context('mode.use_inf_as_na', True):\n",
      "/var/folders/g8/bkvqzlv57q917j6d_31ky2sc0000gn/T/ipykernel_44667/1614915720.py:10: UserWarning: \n",
      "\n",
      "`distplot` is a deprecated function and will be removed in seaborn v0.14.0.\n",
      "\n",
      "Please adapt your code to use either `displot` (a figure-level function with\n",
      "similar flexibility) or `histplot` (an axes-level function for histograms).\n",
      "\n",
      "For a guide to updating your code to use the new functions, please see\n",
      "https://gist.github.com/mwaskom/de44147ed2974457ad6372750bbe5751\n",
      "\n",
      "  sns.distplot(features['prediction_phys'][features['Entry'].isin(df_HE['Entry']) == False], label = 'swissprot')\n",
      "/opt/miniconda3/envs/etna/lib/python3.9/site-packages/seaborn/_oldcore.py:1119: FutureWarning: use_inf_as_na option is deprecated and will be removed in a future version. Convert inf values to NaN before operating instead.\n",
      "  with pd.option_context('mode.use_inf_as_na', True):\n"
     ]
    },
    {
     "name": "stdout",
     "output_type": "stream",
     "text": [
      "Best Threshold=0.280178, G-Mean=0.855\n"
     ]
    },
    {
     "data": {
      "text/plain": [
       "(6864, 292)"
      ]
     },
     "execution_count": 8,
     "metadata": {},
     "output_type": "execute_result"
    },
    {
     "data": {
      "image/png": "[encoded data removed]",
      "text/plain": [
       "<Figure size 432x288 with 1 Axes>"
      ]
     },
     "metadata": {
      "needs_background": "light"
     },
     "output_type": "display_data"
    }
   ],
   "source": [
    "#Estimate scores across all the proteome:\n",
    "model_phys = best_rf\n",
    "columns_phys.remove('condensate')\n",
    "predictions = np.array(model_phys.predict_proba(features[columns_phys])[:,1])\n",
    "features['prediction_phys'] = predictions\n",
    "pos_set = df_HE['Entry'][df_HE['condensate'] == 'COND+']\n",
    "neg_set = df_HE['Entry'][df_HE['condensate'] == 'COND-']\n",
    "sns.distplot(features['prediction_phys'][features['Entry'].isin(pos_set)], label = 'positive set')\n",
    "sns.distplot(features['prediction_phys'][features['Entry'].isin(neg_set)], label = 'negative set')\n",
    "sns.distplot(features['prediction_phys'][features['Entry'].isin(df_HE['Entry']) == False], label = 'swissprot')\n",
    "plt.legend()\n",
    "\n",
    "#Estimate Youden coefficient for optimal thresholding:\n",
    "predictions_training_set = model_phys.predict_proba(df_model_red[columns_phys])[:,1]\n",
    "fpr, tpr, thresholds = metrics.roc_curve(df_model_red['condensate'], predictions_training_set)\n",
    "gmeans = np.sqrt(tpr * (1-fpr))\n",
    "# locate the index of the largest g-mean\n",
    "ix = np.argmax(gmeans)\n",
    "print('Best Threshold=%f, G-Mean=%.3f' % (thresholds[ix], gmeans[ix]))\n",
    "features[features['prediction_phys'] > thresholds[ix]].shape"
   ]
  },
  {
   "cell_type": "code",
   "execution_count": null,
   "metadata": {},
   "outputs": [],
   "source": []
  },
  {
   "cell_type": "code",
   "execution_count": null,
   "metadata": {},
   "outputs": [],
   "source": []
  },
  {
   "cell_type": "markdown",
   "metadata": {},
   "source": [
    "# Now with hand-crafted features (EngF) + RNA-binding propensity"
   ]
  },
  {
   "cell_type": "code",
   "execution_count": 9,
   "metadata": {},
   "outputs": [
    {
     "name": "stdout",
     "output_type": "stream",
     "text": [
      "Fitting 10 folds for each of 36 candidates, totalling 360 fits\n",
      "Best hyperparameters: {'max_depth': 9, 'min_samples_leaf': 1, 'n_estimators': 50}\n",
      "auROC on train/val data: 0.9569635544774393\n",
      "auPRC on train/val data: 0.9223767080948008\n",
      "auROC on test data: 0.8412208467132423+/-0.003306034719423718\n",
      "auPRC on test data: 0.657899041159894+/-0.010577670954119177\n"
     ]
    }
   ],
   "source": [
    "columns_RNA = list(df_HE_final.columns[30:98]) + ['RNA_binding', 'condensate']\n",
    "df_model_red = df_model[columns_RNA]\n",
    "df_test_red = test_df[columns_RNA]\n",
    "\n",
    "param_grid = {\n",
    "    'n_estimators': [50, 100],\n",
    "    'max_features': ['auto', 'sqrt'],\n",
    "    'max_depth': [5, 10],\n",
    "    'min_samples_split': [2, 5],\n",
    "    'min_samples_leaf': [2],\n",
    "}\n",
    "\n",
    "\n",
    "param_grid = {\n",
    "    'n_estimators': [20, 50, 100, 200],\n",
    "    #'max_features': ['auto', 'sqrt'],\n",
    "    'max_depth': [3, 6, 9],\n",
    "    'min_samples_leaf': [1, 2, 4],\n",
    "}\n",
    "\n",
    "\n",
    "\n",
    "df_model, test_df = train_test_split(df_model_red, test_size = test_frac,\n",
    "                                     stratify = df_model_red['condensate'], random_state=42)\n",
    "X = df_model_red.drop('condensate', axis=1)\n",
    "y = df_model_red['condensate']\n",
    "X_train, X_val, y_train, y_val = train_test_split(X, y, test_size=0.2, stratify=y, random_state=42)\n",
    "rf = RandomForestClassifier()\n",
    "scorer = make_scorer(roc_auc_score)\n",
    "grid_search = GridSearchCV(estimator = rf, param_grid = param_grid, \n",
    "                           scoring = scorer, cv = cv, n_jobs = -1, verbose = 1)\n",
    "grid_search.fit(X_train, y_train)\n",
    "print(\"Best hyperparameters:\", grid_search.best_params_)\n",
    "\n",
    "best_rf = grid_search.best_estimator_\n",
    "#Performance on all of train & validation data with these hyperparameters:\n",
    "X_train_val = df_model_red.drop('condensate', axis=1);\n",
    "y_train_val = df_model_red['condensate']\n",
    "y_pred_train_val = best_rf.predict_proba(X_train_val)[:, 1]\n",
    "auroc_train_val = roc_auc_score(y_train_val, y_pred_train_val)\n",
    "print(str('auROC on train/val data: ' + str(auroc_train_val)))\n",
    "precision, recall, thresholds = precision_recall_curve(y_train_val, y_pred_train_val)\n",
    "auprc_train_val = auc(recall, precision)\n",
    "print(str('auPRC on train/val data: ' + str(auprc_train_val)))\n",
    "\n",
    "    \n",
    "#Performance on test data\n",
    "aurocs = []; auprcs = []\n",
    "for k in range(0, cv):\n",
    "    test_df_here = df_test_red.sample(frac=0.9, random_state=k)\n",
    "    X_test = test_df_here.drop('condensate', axis=1)\n",
    "    y_test = test_df_here['condensate']\n",
    "    \n",
    "    y_pred_proba = best_rf.predict_proba(X_test)[:, 1]\n",
    "    test_auroc = roc_auc_score(y_test, y_pred_proba)\n",
    "    aurocs.append(test_auroc)\n",
    "\n",
    "    precision, recall, thresholds = precision_recall_curve(y_test, y_pred_proba)\n",
    "    auc_precision_recall_test = auc(recall, precision)\n",
    "    auprcs.append(auc_precision_recall_test)\n",
    "print(str('auROC on test data: ' + str(np.mean(aurocs)) + '+/-' + str(np.std(aurocs))))\n",
    "print(str('auPRC on test data: ' + str(np.mean(auprcs)) + '+/-' + str(np.std(auprcs))))"
   ]
  },
  {
   "cell_type": "code",
   "execution_count": 10,
   "metadata": {},
   "outputs": [
    {
     "name": "stderr",
     "output_type": "stream",
     "text": [
      "/var/folders/g8/bkvqzlv57q917j6d_31ky2sc0000gn/T/ipykernel_44667/2497343197.py:8: UserWarning: \n",
      "\n",
      "`distplot` is a deprecated function and will be removed in seaborn v0.14.0.\n",
      "\n",
      "Please adapt your code to use either `displot` (a figure-level function with\n",
      "similar flexibility) or `histplot` (an axes-level function for histograms).\n",
      "\n",
      "For a guide to updating your code to use the new functions, please see\n",
      "https://gist.github.com/mwaskom/de44147ed2974457ad6372750bbe5751\n",
      "\n",
      "  sns.distplot(features['prediction_phys'][features['Entry'].isin(pos_set)], label = 'positive set')\n",
      "/opt/miniconda3/envs/etna/lib/python3.9/site-packages/seaborn/_oldcore.py:1119: FutureWarning: use_inf_as_na option is deprecated and will be removed in a future version. Convert inf values to NaN before operating instead.\n",
      "  with pd.option_context('mode.use_inf_as_na', True):\n",
      "/var/folders/g8/bkvqzlv57q917j6d_31ky2sc0000gn/T/ipykernel_44667/2497343197.py:9: UserWarning: \n",
      "\n",
      "`distplot` is a deprecated function and will be removed in seaborn v0.14.0.\n",
      "\n",
      "Please adapt your code to use either `displot` (a figure-level function with\n",
      "similar flexibility) or `histplot` (an axes-level function for histograms).\n",
      "\n",
      "For a guide to updating your code to use the new functions, please see\n",
      "https://gist.github.com/mwaskom/de44147ed2974457ad6372750bbe5751\n",
      "\n",
      "  sns.distplot(features['prediction_phys'][features['Entry'].isin(neg_set)], label = 'negative set')\n",
      "/opt/miniconda3/envs/etna/lib/python3.9/site-packages/seaborn/_oldcore.py:1119: FutureWarning: use_inf_as_na option is deprecated and will be removed in a future version. Convert inf values to NaN before operating instead.\n",
      "  with pd.option_context('mode.use_inf_as_na', True):\n",
      "/var/folders/g8/bkvqzlv57q917j6d_31ky2sc0000gn/T/ipykernel_44667/2497343197.py:10: UserWarning: \n",
      "\n",
      "`distplot` is a deprecated function and will be removed in seaborn v0.14.0.\n",
      "\n",
      "Please adapt your code to use either `displot` (a figure-level function with\n",
      "similar flexibility) or `histplot` (an axes-level function for histograms).\n",
      "\n",
      "For a guide to updating your code to use the new functions, please see\n",
      "https://gist.github.com/mwaskom/de44147ed2974457ad6372750bbe5751\n",
      "\n",
      "  sns.distplot(features['prediction_phys'][features['Entry'].isin(df_HE['Entry']) == False], label = 'swissprot')\n",
      "/opt/miniconda3/envs/etna/lib/python3.9/site-packages/seaborn/_oldcore.py:1119: FutureWarning: use_inf_as_na option is deprecated and will be removed in a future version. Convert inf values to NaN before operating instead.\n",
      "  with pd.option_context('mode.use_inf_as_na', True):\n"
     ]
    },
    {
     "name": "stdout",
     "output_type": "stream",
     "text": [
      "Best Threshold=0.299768, G-Mean=0.908\n"
     ]
    },
    {
     "data": {
      "text/plain": [
       "(5802, 293)"
      ]
     },
     "execution_count": 10,
     "metadata": {},
     "output_type": "execute_result"
    },
    {
     "data": {
      "image/png": "[encoded data removed]",
      "text/plain": [
       "<Figure size 432x288 with 1 Axes>"
      ]
     },
     "metadata": {
      "needs_background": "light"
     },
     "output_type": "display_data"
    }
   ],
   "source": [
    "#Estimate scores across all the proteome:\n",
    "model_RNA = best_rf\n",
    "columns_RNA.remove('condensate')\n",
    "predictions = np.array(model_RNA.predict_proba(features[columns_RNA])[:,1])\n",
    "features['prediction_phys_and_RNA'] = predictions\n",
    "pos_set = df_HE['Entry'][df_HE['condensate'] == 'COND+']\n",
    "neg_set = df_HE['Entry'][df_HE['condensate'] == 'COND-']\n",
    "sns.distplot(features['prediction_phys'][features['Entry'].isin(pos_set)], label = 'positive set')\n",
    "sns.distplot(features['prediction_phys'][features['Entry'].isin(neg_set)], label = 'negative set')\n",
    "sns.distplot(features['prediction_phys'][features['Entry'].isin(df_HE['Entry']) == False], label = 'swissprot')\n",
    "plt.legend()\n",
    "\n",
    "#Estimate Youden coefficient for optimal thresholding:\n",
    "predictions_training_set = model_RNA.predict_proba(df_model_red[columns_RNA])[:,1]\n",
    "fpr, tpr, thresholds = metrics.roc_curve(df_model_red['condensate'], predictions_training_set)\n",
    "gmeans = np.sqrt(tpr * (1-fpr))\n",
    "# locate the index of the largest g-mean\n",
    "ix = np.argmax(gmeans)\n",
    "print('Best Threshold=%f, G-Mean=%.3f' % (thresholds[ix], gmeans[ix]))\n",
    "features[features['prediction_phys_and_RNA'] > thresholds[ix]].shape"
   ]
  },
  {
   "cell_type": "code",
   "execution_count": null,
   "metadata": {},
   "outputs": [],
   "source": []
  },
  {
   "cell_type": "markdown",
   "metadata": {},
   "source": [
    "# SeqVec based model"
   ]
  },
  {
   "cell_type": "code",
   "execution_count": 11,
   "metadata": {},
   "outputs": [],
   "source": [
    "#Read in seqVec embeddings for the human proteome:\n",
    "SV1 = pd.read_csv('Data/Features/SeqVec_13k.csv')\n",
    "SV2 = pd.read_csv('Data/Features/SeqVec_7k.csv')\n",
    "SeqVec = pd.concat([SV1, SV2], axis = 0)\n",
    "cond_dict = dict(zip(df_HE_final['Entry'], df_HE_final['condensate']))\n",
    "SeqVec['condensate'] = SeqVec['Entry'].map(cond_dict)\n",
    "SeqVec_df = SeqVec[SeqVec.columns[3:]]\n",
    "SeqVec_df = SeqVec_df.drop_duplicates(subset = 'Entry')\n",
    "SeqVec_df = SeqVec_df.drop_duplicates(subset = 'Entry')\n",
    "SeqVec_df = SeqVec_df[SeqVec_df['Entry'].isin(features['Entry'])]\n",
    "df_SV_full = SeqVec_df[SeqVec_df['Entry'].isin(df_HE_final['Entry'])]\n",
    "df_model, test_df = train_test_split(df_SV_full, test_size=test_frac,\n",
    "                                     stratify = df_SV_full['condensate'], random_state=42)"
   ]
  },
  {
   "cell_type": "code",
   "execution_count": 12,
   "metadata": {},
   "outputs": [
    {
     "name": "stdout",
     "output_type": "stream",
     "text": [
      "Fitting 10 folds for each of 24 candidates, totalling 240 fits\n",
      "Best hyperparameters: {'max_depth': 12, 'min_samples_leaf': 4, 'n_estimators': 100}\n",
      "auROC on train/val data: 0.9751717844365674\n",
      "auPRC on train/val data: 0.9483078359248461\n",
      "auROC on test data: 0.780699449145227+/-0.005761893073154748\n",
      "auPRC on test data: 0.623071841048449+/-0.006084414784159903\n"
     ]
    }
   ],
   "source": [
    "columns_SV = list(df_model.columns[1:-2]) + ['condensate']\n",
    "df_model_red = df_model[columns_SV]\n",
    "df_test_red = test_df[columns_SV]\n",
    "\n",
    "\n",
    "param_grid = {\n",
    "    'n_estimators': [50, 100],\n",
    "    'max_features': ['auto', 'sqrt'],\n",
    "    'max_depth': [5, 10],\n",
    "    'min_samples_split': [2, 5],\n",
    "    'min_samples_leaf': [2],\n",
    "}\n",
    "\n",
    "\n",
    "param_grid = {\n",
    "    'n_estimators': [100, 200],\n",
    "    #'max_features': ['auto', 'sqrt'],\n",
    "    'max_depth': [3, 6, 9, 12],\n",
    "    'min_samples_leaf': [2, 4, 8],\n",
    "}\n",
    "\n",
    "\n",
    "\n",
    "X = df_model_red.drop('condensate', axis=1)\n",
    "y = df_model_red['condensate']\n",
    "X_train, X_val, y_train, y_val = train_test_split(X, y, test_size=0.2, stratify=y, random_state=42)\n",
    "rf = RandomForestClassifier()\n",
    "scorer = make_scorer(roc_auc_score)\n",
    "grid_search = GridSearchCV(estimator = rf, param_grid = param_grid, \n",
    "                           scoring = scorer, cv = cv, n_jobs = -1, verbose = 1)\n",
    "grid_search.fit(X_train, y_train)\n",
    "print(\"Best hyperparameters:\", grid_search.best_params_)\n",
    "\n",
    "best_rf = grid_search.best_estimator_\n",
    "#Performance on all of train & validation data with these hyperparameters:\n",
    "X_train_val = df_model_red.drop('condensate', axis=1);\n",
    "y_train_val = df_model_red['condensate']\n",
    "y_pred_train_val = best_rf.predict_proba(X_train_val)[:, 1]\n",
    "auroc_train_val = roc_auc_score(y_train_val, y_pred_train_val)\n",
    "print(str('auROC on train/val data: ' + str(auroc_train_val)))\n",
    "precision, recall, thresholds = precision_recall_curve(y_train_val, y_pred_train_val)\n",
    "auprc_train_val = auc(recall, precision)\n",
    "print(str('auPRC on train/val data: ' + str(auprc_train_val)))\n",
    "\n",
    "    \n",
    "#Performance on test data\n",
    "aurocs = []; auprcs = []\n",
    "for k in range(0, cv):\n",
    "    test_df_here = df_test_red.sample(frac=0.9, random_state=k)\n",
    "    X_test = test_df_here.drop('condensate', axis=1)\n",
    "    y_test = test_df_here['condensate']\n",
    "    \n",
    "    y_pred_proba = best_rf.predict_proba(X_test)[:, 1]\n",
    "    test_auroc = roc_auc_score(y_test, y_pred_proba)\n",
    "    aurocs.append(test_auroc)\n",
    "\n",
    "    precision, recall, thresholds = precision_recall_curve(y_test, y_pred_proba)\n",
    "    auc_precision_recall_test = auc(recall, precision)\n",
    "    auprcs.append(auc_precision_recall_test)\n",
    "print(str('auROC on test data: ' + str(np.mean(aurocs)) + '+/-' + str(np.std(aurocs))))\n",
    "print(str('auPRC on test data: ' + str(np.mean(auprcs)) + '+/-' + str(np.std(auprcs))))"
   ]
  },
  {
   "cell_type": "code",
   "execution_count": 13,
   "metadata": {
    "scrolled": false
   },
   "outputs": [
    {
     "name": "stderr",
     "output_type": "stream",
     "text": [
      "/var/folders/g8/bkvqzlv57q917j6d_31ky2sc0000gn/T/ipykernel_44667/1170270350.py:8: UserWarning: \n",
      "\n",
      "`distplot` is a deprecated function and will be removed in seaborn v0.14.0.\n",
      "\n",
      "Please adapt your code to use either `displot` (a figure-level function with\n",
      "similar flexibility) or `histplot` (an axes-level function for histograms).\n",
      "\n",
      "For a guide to updating your code to use the new functions, please see\n",
      "https://gist.github.com/mwaskom/de44147ed2974457ad6372750bbe5751\n",
      "\n",
      "  sns.distplot(features['prediction_SV'][features['Entry'].isin(pos_set)], label = 'positive set')\n",
      "/opt/miniconda3/envs/etna/lib/python3.9/site-packages/seaborn/_oldcore.py:1119: FutureWarning: use_inf_as_na option is deprecated and will be removed in a future version. Convert inf values to NaN before operating instead.\n",
      "  with pd.option_context('mode.use_inf_as_na', True):\n",
      "/var/folders/g8/bkvqzlv57q917j6d_31ky2sc0000gn/T/ipykernel_44667/1170270350.py:9: UserWarning: \n",
      "\n",
      "`distplot` is a deprecated function and will be removed in seaborn v0.14.0.\n",
      "\n",
      "Please adapt your code to use either `displot` (a figure-level function with\n",
      "similar flexibility) or `histplot` (an axes-level function for histograms).\n",
      "\n",
      "For a guide to updating your code to use the new functions, please see\n",
      "https://gist.github.com/mwaskom/de44147ed2974457ad6372750bbe5751\n",
      "\n",
      "  sns.distplot(features['prediction_SV'][features['Entry'].isin(neg_set)], label = 'negative set')\n",
      "/opt/miniconda3/envs/etna/lib/python3.9/site-packages/seaborn/_oldcore.py:1119: FutureWarning: use_inf_as_na option is deprecated and will be removed in a future version. Convert inf values to NaN before operating instead.\n",
      "  with pd.option_context('mode.use_inf_as_na', True):\n",
      "/var/folders/g8/bkvqzlv57q917j6d_31ky2sc0000gn/T/ipykernel_44667/1170270350.py:10: UserWarning: \n",
      "\n",
      "`distplot` is a deprecated function and will be removed in seaborn v0.14.0.\n",
      "\n",
      "Please adapt your code to use either `displot` (a figure-level function with\n",
      "similar flexibility) or `histplot` (an axes-level function for histograms).\n",
      "\n",
      "For a guide to updating your code to use the new functions, please see\n",
      "https://gist.github.com/mwaskom/de44147ed2974457ad6372750bbe5751\n",
      "\n",
      "  sns.distplot(features['prediction_SV'][features['Entry'].isin(df_HE['Entry']) == False], label = 'swissprot')\n",
      "/opt/miniconda3/envs/etna/lib/python3.9/site-packages/seaborn/_oldcore.py:1119: FutureWarning: use_inf_as_na option is deprecated and will be removed in a future version. Convert inf values to NaN before operating instead.\n",
      "  with pd.option_context('mode.use_inf_as_na', True):\n"
     ]
    },
    {
     "name": "stdout",
     "output_type": "stream",
     "text": [
      "Best Threshold=0.357100, G-Mean=0.933\n"
     ]
    },
    {
     "data": {
      "text/plain": [
       "(2715, 294)"
      ]
     },
     "execution_count": 13,
     "metadata": {},
     "output_type": "execute_result"
    },
    {
     "data": {
      "image/png": "[encoded data removed]",
      "text/plain": [
       "<Figure size 432x288 with 1 Axes>"
      ]
     },
     "metadata": {
      "needs_background": "light"
     },
     "output_type": "display_data"
    }
   ],
   "source": [
    "#Estimate scores across all the proteome:\n",
    "model_SV = best_rf\n",
    "columns_SV.remove('condensate')\n",
    "predictions = np.array(model_SV.predict_proba(SeqVec_df[columns_SV])[:,1])\n",
    "features['prediction_SV'] = predictions\n",
    "pos_set = df_HE['Entry'][df_HE['condensate'] == 'COND+']\n",
    "neg_set = df_HE['Entry'][df_HE['condensate'] == 'COND-']\n",
    "sns.distplot(features['prediction_SV'][features['Entry'].isin(pos_set)], label = 'positive set')\n",
    "sns.distplot(features['prediction_SV'][features['Entry'].isin(neg_set)], label = 'negative set')\n",
    "sns.distplot(features['prediction_SV'][features['Entry'].isin(df_HE['Entry']) == False], label = 'swissprot')\n",
    "plt.legend()\n",
    "\n",
    "#Estimate Youden coefficient for optimal thresholding:\n",
    "predictions_training_set = model_SV.predict_proba(df_model_red[columns_SV])[:,1]\n",
    "fpr, tpr, thresholds = metrics.roc_curve(df_model_red['condensate'], predictions_training_set)\n",
    "gmeans = np.sqrt(tpr * (1-fpr))\n",
    "# locate the index of the largest g-mean\n",
    "ix = np.argmax(gmeans)\n",
    "print('Best Threshold=%f, G-Mean=%.3f' % (thresholds[ix], gmeans[ix]))\n",
    "features[features['prediction_SV'] > thresholds[ix]].shape"
   ]
  },
  {
   "cell_type": "code",
   "execution_count": null,
   "metadata": {},
   "outputs": [],
   "source": []
  },
  {
   "cell_type": "code",
   "execution_count": null,
   "metadata": {},
   "outputs": [],
   "source": []
  },
  {
   "cell_type": "markdown",
   "metadata": {},
   "source": [
    "# Combined model:"
   ]
  },
  {
   "cell_type": "code",
   "execution_count": 14,
   "metadata": {},
   "outputs": [],
   "source": [
    "features['prediction_comb'] = 0.5*features['prediction_phys'] + 0.5 * features['prediction_SV']\n",
    "pred_dict = dict(zip(features['Entry'], features['prediction_comb']))\n",
    "df_HE_final['prediction_comb']  = df_HE_final['Entry'].map(pred_dict)\n",
    "\n",
    "df_model, test_df = train_test_split(df_HE_final, test_size=test_frac,\n",
    "                                     stratify = df_HE_final['condensate'], random_state=42)"
   ]
  },
  {
   "cell_type": "code",
   "execution_count": 15,
   "metadata": {},
   "outputs": [
    {
     "name": "stdout",
     "output_type": "stream",
     "text": [
      "auROC on train/val data: 0.8824038292937875\n",
      "auPRC on train/val data: 0.7685611193653149\n",
      "auROC on train/val data: 0.7611528819303897+/-0.005575677900296648\n",
      "auPRC on train/val data: 0.5332099308757784+/-0.015628044513710297\n"
     ]
    }
   ],
   "source": [
    "#Train/val data\n",
    "true_label = df_model['condensate']\n",
    "prediction = df_model['prediction_comb']\n",
    "fpr, tpr, thresholds = metrics.roc_curve(true_label, prediction)\n",
    "roc_auc_train = metrics.auc(fpr, tpr)\n",
    "precision, recall, thresholds = precision_recall_curve(true_label, prediction)\n",
    "auc_precision_recall_train = auc(recall, precision)\n",
    "print(str('auROC on train/val data: ' + str(np.mean(roc_auc_train))))\n",
    "print(str('auPRC on train/val data: ' + str(np.mean(auc_precision_recall_train))))\n",
    "\n",
    "#Performance on test data\n",
    "aurocs = []; auprcs = []\n",
    "for k in range(0, cv):\n",
    "    test_df_here = test_df.sample(frac = 0.9, random_state=k)\n",
    "    true_label = test_df_here['condensate']\n",
    "    prediction = test_df_here['prediction_comb']\n",
    "    fpr, tpr, thresholds = metrics.roc_curve(true_label, prediction)\n",
    "    roc_auc_test = metrics.auc(fpr, tpr)\n",
    "    aurocs.append(roc_auc_test)\n",
    "    precision, recall, thresholds = precision_recall_curve(true_label, prediction)\n",
    "    auc_precision_recall_test = auc(recall, precision)\n",
    "    auprcs.append(auc_precision_recall_test)\n",
    "print(str('auROC on train/val data: ' + str(np.mean(aurocs)) + '+/-' + str(np.std(aurocs))))\n",
    "print(str('auPRC on train/val data: ' + str(np.mean(auprcs)) + '+/-' + str(np.std(auprcs))))"
   ]
  },
  {
   "cell_type": "code",
   "execution_count": 16,
   "metadata": {},
   "outputs": [
    {
     "name": "stderr",
     "output_type": "stream",
     "text": [
      "/var/folders/g8/bkvqzlv57q917j6d_31ky2sc0000gn/T/ipykernel_44667/2590360912.py:1: UserWarning: \n",
      "\n",
      "`distplot` is a deprecated function and will be removed in seaborn v0.14.0.\n",
      "\n",
      "Please adapt your code to use either `displot` (a figure-level function with\n",
      "similar flexibility) or `histplot` (an axes-level function for histograms).\n",
      "\n",
      "For a guide to updating your code to use the new functions, please see\n",
      "https://gist.github.com/mwaskom/de44147ed2974457ad6372750bbe5751\n",
      "\n",
      "  sns.distplot(features['prediction_comb'][features['Entry'].isin(pos_set)], label = 'positive set')\n",
      "/opt/miniconda3/envs/etna/lib/python3.9/site-packages/seaborn/_oldcore.py:1119: FutureWarning: use_inf_as_na option is deprecated and will be removed in a future version. Convert inf values to NaN before operating instead.\n",
      "  with pd.option_context('mode.use_inf_as_na', True):\n",
      "/var/folders/g8/bkvqzlv57q917j6d_31ky2sc0000gn/T/ipykernel_44667/2590360912.py:2: UserWarning: \n",
      "\n",
      "`distplot` is a deprecated function and will be removed in seaborn v0.14.0.\n",
      "\n",
      "Please adapt your code to use either `displot` (a figure-level function with\n",
      "similar flexibility) or `histplot` (an axes-level function for histograms).\n",
      "\n",
      "For a guide to updating your code to use the new functions, please see\n",
      "https://gist.github.com/mwaskom/de44147ed2974457ad6372750bbe5751\n",
      "\n",
      "  sns.distplot(features['prediction_comb'][features['Entry'].isin(neg_set)], label = 'negative set')\n",
      "/opt/miniconda3/envs/etna/lib/python3.9/site-packages/seaborn/_oldcore.py:1119: FutureWarning: use_inf_as_na option is deprecated and will be removed in a future version. Convert inf values to NaN before operating instead.\n",
      "  with pd.option_context('mode.use_inf_as_na', True):\n",
      "/var/folders/g8/bkvqzlv57q917j6d_31ky2sc0000gn/T/ipykernel_44667/2590360912.py:3: UserWarning: \n",
      "\n",
      "`distplot` is a deprecated function and will be removed in seaborn v0.14.0.\n",
      "\n",
      "Please adapt your code to use either `displot` (a figure-level function with\n",
      "similar flexibility) or `histplot` (an axes-level function for histograms).\n",
      "\n",
      "For a guide to updating your code to use the new functions, please see\n",
      "https://gist.github.com/mwaskom/de44147ed2974457ad6372750bbe5751\n",
      "\n",
      "  sns.distplot(features['prediction_comb'][features['Entry'].isin(df_HE_final['Entry']) == False], label = 'swissprot')\n",
      "/opt/miniconda3/envs/etna/lib/python3.9/site-packages/seaborn/_oldcore.py:1119: FutureWarning: use_inf_as_na option is deprecated and will be removed in a future version. Convert inf values to NaN before operating instead.\n",
      "  with pd.option_context('mode.use_inf_as_na', True):\n"
     ]
    },
    {
     "data": {
      "text/plain": [
       "<matplotlib.legend.Legend at 0x1449d6c40>"
      ]
     },
     "execution_count": 16,
     "metadata": {},
     "output_type": "execute_result"
    },
    {
     "data": {
      "image/png": "[encoded data removed]",
      "text/plain": [
       "<Figure size 432x288 with 1 Axes>"
      ]
     },
     "metadata": {
      "needs_background": "light"
     },
     "output_type": "display_data"
    }
   ],
   "source": [
    "sns.distplot(features['prediction_comb'][features['Entry'].isin(pos_set)], label = 'positive set')\n",
    "sns.distplot(features['prediction_comb'][features['Entry'].isin(neg_set)], label = 'negative set')\n",
    "sns.distplot(features['prediction_comb'][features['Entry'].isin(df_HE_final['Entry']) == False], label = 'swissprot')\n",
    "plt.legend()"
   ]
  },
  {
   "cell_type": "code",
   "execution_count": 17,
   "metadata": {},
   "outputs": [],
   "source": [
    "features.to_csv('Output/predictions.csv')"
   ]
  },
  {
   "cell_type": "code",
   "execution_count": null,
   "metadata": {},
   "outputs": [],
   "source": []
  },
  {
   "cell_type": "markdown",
   "metadata": {},
   "source": [
    "# Compare model performances"
   ]
  },
  {
   "cell_type": "code",
   "execution_count": 18,
   "metadata": {},
   "outputs": [
    {
     "data": {
      "image/png": "[encoded data removed]",
      "text/plain": [
       "<Figure size 360x360 with 1 Axes>"
      ]
     },
     "metadata": {
      "needs_background": "light"
     },
     "output_type": "display_data"
    }
   ],
   "source": [
    "plt.figure(figsize=(5, 5))\n",
    "sns.set_style(\"white\")\n",
    "sns.set_style('ticks')\n",
    "sns.set_context(\"notebook\", font_scale=1.5)\n",
    "\n",
    "colors = ['#8aa2e0', '#e56b6f', '#4db84d', '#4fded6', '#d1d567']\n",
    "labels = ['Scaffold', 'EngF', 'EngF + RNA', 'SeqVec', 'Ensemble']\n",
    "values = [0.64, 0.82, 0.84, 0.77, 0.81]\n",
    "errors = [0.01, 0.02, 0.02, 0.025, 0.025]  # Error bars of 0.01 for all cases\n",
    "\n",
    "# Get colors from the tab10 colormap\n",
    "\n",
    "# Create bar plot\n",
    "plt.bar(labels, values, yerr=errors, capsize=10, color=colors, edgecolor='black')\n",
    "\n",
    "# Title and labels\n",
    "plt.ylabel('auROC')\n",
    "plt.xticks(rotation=45)  # Rotate x-axis labels for better visibility\n",
    "plt.ylim([0.5, 0.9])\n",
    "\n",
    "# Display the plot\n",
    "plt.tight_layout()\n",
    "plt.savefig('Plots/auROC_performance.pdf')\n",
    "plt.show()"
   ]
  },
  {
   "cell_type": "code",
   "execution_count": 19,
   "metadata": {},
   "outputs": [
    {
     "data": {
      "image/png": "[encoded data removed]",
      "text/plain": [
       "<Figure size 360x360 with 1 Axes>"
      ]
     },
     "metadata": {},
     "output_type": "display_data"
    }
   ],
   "source": [
    "plt.figure(figsize=(5, 5))\n",
    "sns.set_style(\"white\")\n",
    "sns.set_style('ticks')\n",
    "sns.set_context(\"notebook\", font_scale=1.5)\n",
    "\n",
    "colors = ['#8aa2e0', '#e56b6f', '#4db84d', '#4fded6', '#d1d567']\n",
    "labels = ['Scaffold', 'EngF', 'EngF + RNA', 'SeqVec', 'Ensemble']\n",
    "values = [0.37, 0.66, 0.70, 0.61,  0.64]\n",
    "errors = [0.01, 0.02, 0.02, 0.025, 0.025]  # Error bars of 0.01 for all cases\n",
    "\n",
    "# Get colors from the tab10 colormap\n",
    "\n",
    "# Create bar plot\n",
    "plt.bar(labels, values, yerr=errors, capsize=10, color=colors, edgecolor='black')\n",
    "\n",
    "# Title and labels\n",
    "plt.ylabel('auROC')\n",
    "plt.xticks(rotation=45)  # Rotate x-axis labels for better visibility\n",
    "plt.ylim([0.3, 0.8])\n",
    "\n",
    "# Display the plot\n",
    "plt.tight_layout()\n",
    "plt.savefig('Plots/auPRC_performance.pdf')\n",
    "plt.show()"
   ]
  },
  {
   "cell_type": "code",
   "execution_count": null,
   "metadata": {},
   "outputs": [],
   "source": []
  },
  {
   "cell_type": "code",
   "execution_count": null,
   "metadata": {},
   "outputs": [],
   "source": []
  },
  {
   "cell_type": "code",
   "execution_count": null,
   "metadata": {},
   "outputs": [],
   "source": []
  },
  {
   "cell_type": "code",
   "execution_count": null,
   "metadata": {},
   "outputs": [],
   "source": []
  },
  {
   "cell_type": "code",
   "execution_count": null,
   "metadata": {},
   "outputs": [],
   "source": []
  },
  {
   "cell_type": "code",
   "execution_count": null,
   "metadata": {},
   "outputs": [],
   "source": []
  },
  {
   "cell_type": "code",
   "execution_count": null,
   "metadata": {},
   "outputs": [],
   "source": []
  },
  {
   "cell_type": "code",
   "execution_count": 184,
   "metadata": {},
   "outputs": [],
   "source": []
  },
  {
   "cell_type": "code",
   "execution_count": null,
   "metadata": {},
   "outputs": [],
   "source": []
  },
  {
   "cell_type": "code",
   "execution_count": null,
   "metadata": {},
   "outputs": [],
   "source": []
  }
 ],
 "metadata": {
  "kernelspec": {
   "display_name": "Python 3 (ipykernel)",
   "language": "python",
   "name": "python3"
  },
  "language_info": {
   "codemirror_mode": {
    "name": "ipython",
    "version": 3
   },
   "file_extension": ".py",
   "mimetype": "text/x-python",
   "name": "python",
   "nbconvert_exporter": "python",
   "pygments_lexer": "ipython3",
   "version": "3.9.16"
  }
 },
 "nbformat": 4,
 "nbformat_minor": 4
}
